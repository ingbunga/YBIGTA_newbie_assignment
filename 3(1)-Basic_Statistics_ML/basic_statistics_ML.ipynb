{
 "cells": [
  {
   "cell_type": "markdown",
   "id": "dc06d91f",
   "metadata": {},
   "source": [
    "## 1. Iris 데이터셋을 활용해 클래스별 변수 평균 차이를 검정"
   ]
  },
  {
   "cell_type": "code",
   "execution_count": 2,
   "id": "ba45b952",
   "metadata": {},
   "outputs": [],
   "source": [
    "import pandas as pd\n",
    "import seaborn as sns\n",
    "import matplotlib.pyplot as plt\n",
    "import scipy.stats as stats"
   ]
  },
  {
   "cell_type": "markdown",
   "id": "15cd11ae",
   "metadata": {},
   "source": [
    "### 1. 구조 확인"
   ]
  },
  {
   "cell_type": "code",
   "execution_count": 3,
   "id": "96e6d3d9",
   "metadata": {},
   "outputs": [],
   "source": [
    "iris = sns.load_dataset('iris')"
   ]
  },
  {
   "cell_type": "code",
   "execution_count": 4,
   "id": "96345926",
   "metadata": {},
   "outputs": [
    {
     "data": {
      "text/html": [
       "<div>\n",
       "<style scoped>\n",
       "    .dataframe tbody tr th:only-of-type {\n",
       "        vertical-align: middle;\n",
       "    }\n",
       "\n",
       "    .dataframe tbody tr th {\n",
       "        vertical-align: top;\n",
       "    }\n",
       "\n",
       "    .dataframe thead th {\n",
       "        text-align: right;\n",
       "    }\n",
       "</style>\n",
       "<table border=\"1\" class=\"dataframe\">\n",
       "  <thead>\n",
       "    <tr style=\"text-align: right;\">\n",
       "      <th></th>\n",
       "      <th>sepal_length</th>\n",
       "      <th>sepal_width</th>\n",
       "      <th>petal_length</th>\n",
       "      <th>petal_width</th>\n",
       "      <th>species</th>\n",
       "    </tr>\n",
       "  </thead>\n",
       "  <tbody>\n",
       "    <tr>\n",
       "      <th>0</th>\n",
       "      <td>5.1</td>\n",
       "      <td>3.5</td>\n",
       "      <td>1.4</td>\n",
       "      <td>0.2</td>\n",
       "      <td>setosa</td>\n",
       "    </tr>\n",
       "    <tr>\n",
       "      <th>1</th>\n",
       "      <td>4.9</td>\n",
       "      <td>3.0</td>\n",
       "      <td>1.4</td>\n",
       "      <td>0.2</td>\n",
       "      <td>setosa</td>\n",
       "    </tr>\n",
       "    <tr>\n",
       "      <th>2</th>\n",
       "      <td>4.7</td>\n",
       "      <td>3.2</td>\n",
       "      <td>1.3</td>\n",
       "      <td>0.2</td>\n",
       "      <td>setosa</td>\n",
       "    </tr>\n",
       "    <tr>\n",
       "      <th>3</th>\n",
       "      <td>4.6</td>\n",
       "      <td>3.1</td>\n",
       "      <td>1.5</td>\n",
       "      <td>0.2</td>\n",
       "      <td>setosa</td>\n",
       "    </tr>\n",
       "    <tr>\n",
       "      <th>4</th>\n",
       "      <td>5.0</td>\n",
       "      <td>3.6</td>\n",
       "      <td>1.4</td>\n",
       "      <td>0.2</td>\n",
       "      <td>setosa</td>\n",
       "    </tr>\n",
       "  </tbody>\n",
       "</table>\n",
       "</div>"
      ],
      "text/plain": [
       "   sepal_length  sepal_width  petal_length  petal_width species\n",
       "0           5.1          3.5           1.4          0.2  setosa\n",
       "1           4.9          3.0           1.4          0.2  setosa\n",
       "2           4.7          3.2           1.3          0.2  setosa\n",
       "3           4.6          3.1           1.5          0.2  setosa\n",
       "4           5.0          3.6           1.4          0.2  setosa"
      ]
     },
     "execution_count": 4,
     "metadata": {},
     "output_type": "execute_result"
    }
   ],
   "source": [
    "iris.head()"
   ]
  },
  {
   "cell_type": "markdown",
   "id": "59bd89ba",
   "metadata": {},
   "source": [
    "### 2. 기술 통계량 산출"
   ]
  },
  {
   "cell_type": "code",
   "execution_count": 5,
   "id": "d5a2bda8",
   "metadata": {},
   "outputs": [
    {
     "data": {
      "text/html": [
       "<div>\n",
       "<style scoped>\n",
       "    .dataframe tbody tr th:only-of-type {\n",
       "        vertical-align: middle;\n",
       "    }\n",
       "\n",
       "    .dataframe tbody tr th {\n",
       "        vertical-align: top;\n",
       "    }\n",
       "\n",
       "    .dataframe thead th {\n",
       "        text-align: right;\n",
       "    }\n",
       "</style>\n",
       "<table border=\"1\" class=\"dataframe\">\n",
       "  <thead>\n",
       "    <tr style=\"text-align: right;\">\n",
       "      <th></th>\n",
       "      <th>sepal_length</th>\n",
       "      <th>sepal_width</th>\n",
       "      <th>petal_length</th>\n",
       "      <th>petal_width</th>\n",
       "    </tr>\n",
       "    <tr>\n",
       "      <th>species</th>\n",
       "      <th></th>\n",
       "      <th></th>\n",
       "      <th></th>\n",
       "      <th></th>\n",
       "    </tr>\n",
       "  </thead>\n",
       "  <tbody>\n",
       "    <tr>\n",
       "      <th>setosa</th>\n",
       "      <td>5.006</td>\n",
       "      <td>3.428</td>\n",
       "      <td>1.462</td>\n",
       "      <td>0.246</td>\n",
       "    </tr>\n",
       "    <tr>\n",
       "      <th>versicolor</th>\n",
       "      <td>5.936</td>\n",
       "      <td>2.770</td>\n",
       "      <td>4.260</td>\n",
       "      <td>1.326</td>\n",
       "    </tr>\n",
       "    <tr>\n",
       "      <th>virginica</th>\n",
       "      <td>6.588</td>\n",
       "      <td>2.974</td>\n",
       "      <td>5.552</td>\n",
       "      <td>2.026</td>\n",
       "    </tr>\n",
       "  </tbody>\n",
       "</table>\n",
       "</div>"
      ],
      "text/plain": [
       "            sepal_length  sepal_width  petal_length  petal_width\n",
       "species                                                         \n",
       "setosa             5.006        3.428         1.462        0.246\n",
       "versicolor         5.936        2.770         4.260        1.326\n",
       "virginica          6.588        2.974         5.552        2.026"
      ]
     },
     "execution_count": 5,
     "metadata": {},
     "output_type": "execute_result"
    }
   ],
   "source": [
    "iris.groupby('species').mean()"
   ]
  },
  {
   "cell_type": "code",
   "execution_count": 6,
   "id": "d44d6752",
   "metadata": {},
   "outputs": [
    {
     "data": {
      "text/html": [
       "<div>\n",
       "<style scoped>\n",
       "    .dataframe tbody tr th:only-of-type {\n",
       "        vertical-align: middle;\n",
       "    }\n",
       "\n",
       "    .dataframe tbody tr th {\n",
       "        vertical-align: top;\n",
       "    }\n",
       "\n",
       "    .dataframe thead th {\n",
       "        text-align: right;\n",
       "    }\n",
       "</style>\n",
       "<table border=\"1\" class=\"dataframe\">\n",
       "  <thead>\n",
       "    <tr style=\"text-align: right;\">\n",
       "      <th></th>\n",
       "      <th>sepal_length</th>\n",
       "      <th>sepal_width</th>\n",
       "      <th>petal_length</th>\n",
       "      <th>petal_width</th>\n",
       "    </tr>\n",
       "    <tr>\n",
       "      <th>species</th>\n",
       "      <th></th>\n",
       "      <th></th>\n",
       "      <th></th>\n",
       "      <th></th>\n",
       "    </tr>\n",
       "  </thead>\n",
       "  <tbody>\n",
       "    <tr>\n",
       "      <th>setosa</th>\n",
       "      <td>0.352490</td>\n",
       "      <td>0.379064</td>\n",
       "      <td>0.173664</td>\n",
       "      <td>0.105386</td>\n",
       "    </tr>\n",
       "    <tr>\n",
       "      <th>versicolor</th>\n",
       "      <td>0.516171</td>\n",
       "      <td>0.313798</td>\n",
       "      <td>0.469911</td>\n",
       "      <td>0.197753</td>\n",
       "    </tr>\n",
       "    <tr>\n",
       "      <th>virginica</th>\n",
       "      <td>0.635880</td>\n",
       "      <td>0.322497</td>\n",
       "      <td>0.551895</td>\n",
       "      <td>0.274650</td>\n",
       "    </tr>\n",
       "  </tbody>\n",
       "</table>\n",
       "</div>"
      ],
      "text/plain": [
       "            sepal_length  sepal_width  petal_length  petal_width\n",
       "species                                                         \n",
       "setosa          0.352490     0.379064      0.173664     0.105386\n",
       "versicolor      0.516171     0.313798      0.469911     0.197753\n",
       "virginica       0.635880     0.322497      0.551895     0.274650"
      ]
     },
     "execution_count": 6,
     "metadata": {},
     "output_type": "execute_result"
    }
   ],
   "source": [
    "iris.groupby('species').std()"
   ]
  },
  {
   "cell_type": "code",
   "execution_count": 7,
   "id": "355f5589",
   "metadata": {},
   "outputs": [
    {
     "data": {
      "text/html": [
       "<div>\n",
       "<style scoped>\n",
       "    .dataframe tbody tr th:only-of-type {\n",
       "        vertical-align: middle;\n",
       "    }\n",
       "\n",
       "    .dataframe tbody tr th {\n",
       "        vertical-align: top;\n",
       "    }\n",
       "\n",
       "    .dataframe thead tr th {\n",
       "        text-align: left;\n",
       "    }\n",
       "</style>\n",
       "<table border=\"1\" class=\"dataframe\">\n",
       "  <thead>\n",
       "    <tr>\n",
       "      <th></th>\n",
       "      <th>species</th>\n",
       "      <th colspan=\"2\" halign=\"left\">sepal_length</th>\n",
       "      <th colspan=\"2\" halign=\"left\">sepal_width</th>\n",
       "      <th colspan=\"2\" halign=\"left\">petal_length</th>\n",
       "      <th colspan=\"2\" halign=\"left\">petal_width</th>\n",
       "    </tr>\n",
       "    <tr>\n",
       "      <th></th>\n",
       "      <th></th>\n",
       "      <th>min</th>\n",
       "      <th>max</th>\n",
       "      <th>min</th>\n",
       "      <th>max</th>\n",
       "      <th>min</th>\n",
       "      <th>max</th>\n",
       "      <th>min</th>\n",
       "      <th>max</th>\n",
       "    </tr>\n",
       "  </thead>\n",
       "  <tbody>\n",
       "    <tr>\n",
       "      <th>0</th>\n",
       "      <td>setosa</td>\n",
       "      <td>4.3</td>\n",
       "      <td>5.8</td>\n",
       "      <td>2.3</td>\n",
       "      <td>4.4</td>\n",
       "      <td>1.0</td>\n",
       "      <td>1.9</td>\n",
       "      <td>0.1</td>\n",
       "      <td>0.6</td>\n",
       "    </tr>\n",
       "    <tr>\n",
       "      <th>1</th>\n",
       "      <td>versicolor</td>\n",
       "      <td>4.9</td>\n",
       "      <td>7.0</td>\n",
       "      <td>2.0</td>\n",
       "      <td>3.4</td>\n",
       "      <td>3.0</td>\n",
       "      <td>5.1</td>\n",
       "      <td>1.0</td>\n",
       "      <td>1.8</td>\n",
       "    </tr>\n",
       "    <tr>\n",
       "      <th>2</th>\n",
       "      <td>virginica</td>\n",
       "      <td>4.9</td>\n",
       "      <td>7.9</td>\n",
       "      <td>2.2</td>\n",
       "      <td>3.8</td>\n",
       "      <td>4.5</td>\n",
       "      <td>6.9</td>\n",
       "      <td>1.4</td>\n",
       "      <td>2.5</td>\n",
       "    </tr>\n",
       "  </tbody>\n",
       "</table>\n",
       "</div>"
      ],
      "text/plain": [
       "      species sepal_length      sepal_width      petal_length       \\\n",
       "                       min  max         min  max          min  max   \n",
       "0      setosa          4.3  5.8         2.3  4.4          1.0  1.9   \n",
       "1  versicolor          4.9  7.0         2.0  3.4          3.0  5.1   \n",
       "2   virginica          4.9  7.9         2.2  3.8          4.5  6.9   \n",
       "\n",
       "  petal_width       \n",
       "          min  max  \n",
       "0         0.1  0.6  \n",
       "1         1.0  1.8  \n",
       "2         1.4  2.5  "
      ]
     },
     "execution_count": 7,
     "metadata": {},
     "output_type": "execute_result"
    }
   ],
   "source": [
    "iris.groupby('species').agg(['min', 'max']).reset_index()"
   ]
  },
  {
   "cell_type": "code",
   "execution_count": 8,
   "id": "ade26bfb",
   "metadata": {},
   "outputs": [
    {
     "data": {
      "text/html": [
       "<div>\n",
       "<style scoped>\n",
       "    .dataframe tbody tr th:only-of-type {\n",
       "        vertical-align: middle;\n",
       "    }\n",
       "\n",
       "    .dataframe tbody tr th {\n",
       "        vertical-align: top;\n",
       "    }\n",
       "\n",
       "    .dataframe thead th {\n",
       "        text-align: right;\n",
       "    }\n",
       "</style>\n",
       "<table border=\"1\" class=\"dataframe\">\n",
       "  <thead>\n",
       "    <tr style=\"text-align: right;\">\n",
       "      <th></th>\n",
       "      <th></th>\n",
       "      <th>sepal_length</th>\n",
       "      <th>sepal_width</th>\n",
       "      <th>petal_length</th>\n",
       "      <th>petal_width</th>\n",
       "    </tr>\n",
       "    <tr>\n",
       "      <th>species</th>\n",
       "      <th></th>\n",
       "      <th></th>\n",
       "      <th></th>\n",
       "      <th></th>\n",
       "      <th></th>\n",
       "    </tr>\n",
       "  </thead>\n",
       "  <tbody>\n",
       "    <tr>\n",
       "      <th rowspan=\"3\" valign=\"top\">setosa</th>\n",
       "      <th>0.25</th>\n",
       "      <td>4.800</td>\n",
       "      <td>3.200</td>\n",
       "      <td>1.400</td>\n",
       "      <td>0.2</td>\n",
       "    </tr>\n",
       "    <tr>\n",
       "      <th>0.50</th>\n",
       "      <td>5.000</td>\n",
       "      <td>3.400</td>\n",
       "      <td>1.500</td>\n",
       "      <td>0.2</td>\n",
       "    </tr>\n",
       "    <tr>\n",
       "      <th>0.75</th>\n",
       "      <td>5.200</td>\n",
       "      <td>3.675</td>\n",
       "      <td>1.575</td>\n",
       "      <td>0.3</td>\n",
       "    </tr>\n",
       "    <tr>\n",
       "      <th rowspan=\"3\" valign=\"top\">versicolor</th>\n",
       "      <th>0.25</th>\n",
       "      <td>5.600</td>\n",
       "      <td>2.525</td>\n",
       "      <td>4.000</td>\n",
       "      <td>1.2</td>\n",
       "    </tr>\n",
       "    <tr>\n",
       "      <th>0.50</th>\n",
       "      <td>5.900</td>\n",
       "      <td>2.800</td>\n",
       "      <td>4.350</td>\n",
       "      <td>1.3</td>\n",
       "    </tr>\n",
       "    <tr>\n",
       "      <th>0.75</th>\n",
       "      <td>6.300</td>\n",
       "      <td>3.000</td>\n",
       "      <td>4.600</td>\n",
       "      <td>1.5</td>\n",
       "    </tr>\n",
       "    <tr>\n",
       "      <th rowspan=\"3\" valign=\"top\">virginica</th>\n",
       "      <th>0.25</th>\n",
       "      <td>6.225</td>\n",
       "      <td>2.800</td>\n",
       "      <td>5.100</td>\n",
       "      <td>1.8</td>\n",
       "    </tr>\n",
       "    <tr>\n",
       "      <th>0.50</th>\n",
       "      <td>6.500</td>\n",
       "      <td>3.000</td>\n",
       "      <td>5.550</td>\n",
       "      <td>2.0</td>\n",
       "    </tr>\n",
       "    <tr>\n",
       "      <th>0.75</th>\n",
       "      <td>6.900</td>\n",
       "      <td>3.175</td>\n",
       "      <td>5.875</td>\n",
       "      <td>2.3</td>\n",
       "    </tr>\n",
       "  </tbody>\n",
       "</table>\n",
       "</div>"
      ],
      "text/plain": [
       "                 sepal_length  sepal_width  petal_length  petal_width\n",
       "species                                                              \n",
       "setosa     0.25         4.800        3.200         1.400          0.2\n",
       "           0.50         5.000        3.400         1.500          0.2\n",
       "           0.75         5.200        3.675         1.575          0.3\n",
       "versicolor 0.25         5.600        2.525         4.000          1.2\n",
       "           0.50         5.900        2.800         4.350          1.3\n",
       "           0.75         6.300        3.000         4.600          1.5\n",
       "virginica  0.25         6.225        2.800         5.100          1.8\n",
       "           0.50         6.500        3.000         5.550          2.0\n",
       "           0.75         6.900        3.175         5.875          2.3"
      ]
     },
     "execution_count": 8,
     "metadata": {},
     "output_type": "execute_result"
    }
   ],
   "source": [
    "iris.groupby('species').quantile([0.25, 0.5, 0.75]) # type: ignore"
   ]
  },
  {
   "cell_type": "markdown",
   "id": "8d8046d0",
   "metadata": {},
   "source": [
    "### 3. 시각화"
   ]
  },
  {
   "cell_type": "code",
   "execution_count": 17,
   "id": "ae3eeabc",
   "metadata": {},
   "outputs": [
    {
     "data": {
      "image/png": "[encoded data removed]",
      "text/plain": [
       "<Figure size 640x480 with 1 Axes>"
      ]
     },
     "metadata": {},
     "output_type": "display_data"
    }
   ],
   "source": [
    "plt.boxplot([    \n",
    "    iris[iris['species'] == 'setosa']['petal_length'],\n",
    "    iris[iris['species'] == 'versicolor']['petal_length'],\n",
    "    iris[iris['species'] == 'virginica']['petal_length']],)\n",
    "\n",
    "plt.title('petal_length Boxplot')\n",
    "plt.xticks([1, 2, 3], ['setosa', 'versicolor', 'virginica'])\n",
    "plt.show()"
   ]
  },
  {
   "cell_type": "markdown",
   "id": "ad6a950a",
   "metadata": {},
   "source": [
    "- 평균이 setosa, versicolor, virginica 순으로 커진다. \n",
    "- setosa는 Q3-Q1 길이가 짧다.\n",
    "- setosa는 outlier까지 포함해도 max가 다른 품종의 min 보다 작다."
   ]
  },
  {
   "cell_type": "markdown",
   "id": "89d2b951",
   "metadata": {},
   "source": [
    "### 4. 정규성 검정"
   ]
  },
  {
   "cell_type": "markdown",
   "id": "20ec8635",
   "metadata": {},
   "source": [
    "모든 종의 모든 변수에 다음과 같은 가설검정을 실시한다.\n",
    "\n",
    "$ H_0: $ 데이터가 정규 분포를 따른다. \\\n",
    "$ H_1: $ 데이터가 정규 분포를 따르지 않는다."
   ]
  },
  {
   "cell_type": "code",
   "execution_count": 10,
   "id": "192a2e52",
   "metadata": {},
   "outputs": [
    {
     "name": "stdout",
     "output_type": "stream",
     "text": [
      "==========specie='setosa'==========\n",
      "sepal_length\tp=0.45951\n",
      "sepal_width\tp=0.27153\n",
      "petal_length\tp=0.05481\n",
      "petal_width\tp=0.00000\n",
      "==========specie='versicolor'==========\n",
      "sepal_length\tp=0.46474\n",
      "sepal_width\tp=0.33800\n",
      "petal_length\tp=0.15848\n",
      "petal_width\tp=0.02728\n",
      "==========specie='virginica'==========\n",
      "sepal_length\tp=0.25831\n",
      "sepal_width\tp=0.18090\n",
      "petal_length\tp=0.10978\n",
      "petal_width\tp=0.08695\n"
     ]
    }
   ],
   "source": [
    "for specie in iris.species.unique():\n",
    "    print('=' * 10 + f'{specie=}' + '=' * 10)\n",
    "\n",
    "    for col_name in iris[iris['species'] == specie].columns[:-1]:\n",
    "        p = stats.shapiro(iris[iris['species'] == specie][col_name]).pvalue\n",
    "        print(f'{col_name}\\t{p=:.5f}')"
   ]
  },
  {
   "cell_type": "markdown",
   "id": "70a5858e",
   "metadata": {},
   "source": [
    "versicolor의 petal width와 setosa의 petal width가 정규성을 띄지 않는 것 같다."
   ]
  },
  {
   "cell_type": "markdown",
   "id": "eeb8a0fc",
   "metadata": {},
   "source": [
    "### 5. 등분산성 검정"
   ]
  },
  {
   "cell_type": "markdown",
   "id": "c238c8eb",
   "metadata": {},
   "source": [
    "모든 변수에 다음과 같은 가설검정을 실시한다.\n",
    "\n",
    "$ H_0: $ 서로다른 종 3개의 특정 변수의 분산은 같다. \\\n",
    "$ H_1: $ 적어도 하나의 종의 특정 변수의 분산은 다르다."
   ]
  },
  {
   "cell_type": "code",
   "execution_count": 13,
   "id": "f51f2c11",
   "metadata": {},
   "outputs": [
    {
     "name": "stdout",
     "output_type": "stream",
     "text": [
      "sepal_length\t0.00226\n",
      "sepal_width\t0.55552\n",
      "petal_length\t0.00000\n",
      "petal_width\t0.00000\n"
     ]
    }
   ],
   "source": [
    "for col_name in iris.columns[:-1]:\n",
    "    result = stats.levene(iris[iris['species'] == 'setosa'][col_name],\n",
    "                          iris[iris['species'] == 'versicolor'][col_name],\n",
    "                          iris[iris['species'] == 'virginica'][col_name])\n",
    "    print(f'{col_name}\\t{result.pvalue:.5f}')"
   ]
  },
  {
   "cell_type": "markdown",
   "id": "e303ae91",
   "metadata": {},
   "source": [
    "sepal_width 는 등분산을 만족하는것 같고, 나머지 값들은 등분산을 만족하지 못하는거 같다."
   ]
  },
  {
   "cell_type": "code",
   "execution_count": 15,
   "id": "adb3db72",
   "metadata": {},
   "outputs": [
    {
     "data": {
      "image/png": "[encoded data removed]",
      "text/plain": [
       "<Figure size 640x480 with 1 Axes>"
      ]
     },
     "metadata": {},
     "output_type": "display_data"
    }
   ],
   "source": [
    "plt.boxplot([    \n",
    "    iris[iris['species'] == 'setosa']['sepal_width'],\n",
    "    iris[iris['species'] == 'versicolor']['sepal_width'],\n",
    "    iris[iris['species'] == 'virginica']['sepal_width']],)\n",
    "\n",
    "plt.title('sepal_width Boxplot')\n",
    "plt.xticks([1, 2, 3], ['setosa', 'versicolor', 'virginica'])\n",
    "plt.show()"
   ]
  },
  {
   "cell_type": "markdown",
   "id": "c9ed9ee1",
   "metadata": {},
   "source": [
    "sepal_width 의 Boxplot과 위에서 구한 petal_length의 Boxplot을 비교하니 일리가 있는거 같다."
   ]
  },
  {
   "cell_type": "markdown",
   "id": "969453cc",
   "metadata": {},
   "source": [
    "### 6. 가설 수립"
   ]
  },
  {
   "cell_type": "markdown",
   "id": "710a701c",
   "metadata": {},
   "source": [
    "어떤 그룹의 Petal Length가 유의하게 긴지/짧은지 알아보고싶다.\n",
    "\n",
    "그러므로 가설을 setosa, versicolor, virginica 의 Petal Length 모평균을 각각 $\\mu_1, \\mu_2, \\mu_3$로 두고 가설을 수립하면\n",
    "\n",
    "$H_0: \\mu_1 = \\mu_2 = \\mu_3$ \\\n",
    "$H_1:$ 최소한 하나의 $\\mu_n$은 다르다."
   ]
  },
  {
   "cell_type": "markdown",
   "id": "651c2b13",
   "metadata": {},
   "source": [
    "### 7. ANOVA 실행"
   ]
  },
  {
   "cell_type": "code",
   "execution_count": 19,
   "id": "e6b50e1d",
   "metadata": {},
   "outputs": [],
   "source": [
    "from statsmodels.formula.api import ols\n",
    "from statsmodels.stats.anova import anova_lm"
   ]
  },
  {
   "cell_type": "code",
   "execution_count": 20,
   "id": "fafce283",
   "metadata": {},
   "outputs": [
    {
     "name": "stdout",
     "output_type": "stream",
     "text": [
      "               df    sum_sq     mean_sq            F        PR(>F)\n",
      "C(species)    2.0  437.1028  218.551400  1180.161182  2.856777e-91\n",
      "Residual    147.0   27.2226    0.185188          NaN           NaN\n"
     ]
    }
   ],
   "source": [
    "lmodel = ols('petal_length ~ C(species)', data=iris).fit()\n",
    "print(anova_lm(lmodel, typ=1))"
   ]
  },
  {
   "cell_type": "markdown",
   "id": "027eae57",
   "metadata": {},
   "source": [
    "F값이 1180, p값이 2.856777e-91. 그러므로 귀무가설을 기각한다.\\\n",
    "즉, 세 종의 petal_length는 적어도 하나가 다르다."
   ]
  },
  {
   "cell_type": "markdown",
   "id": "50b3d3a2",
   "metadata": {},
   "source": [
    "### 8. Tukey"
   ]
  },
  {
   "cell_type": "code",
   "execution_count": 21,
   "id": "da905dc8",
   "metadata": {},
   "outputs": [
    {
     "name": "stdout",
     "output_type": "stream",
     "text": [
      "   Multiple Comparison of Means - Tukey HSD, FWER=0.05   \n",
      "=========================================================\n",
      "  group1     group2   meandiff p-adj lower  upper  reject\n",
      "---------------------------------------------------------\n",
      "    setosa versicolor    2.798   0.0 2.5942 3.0018   True\n",
      "    setosa  virginica     4.09   0.0 3.8862 4.2938   True\n",
      "versicolor  virginica    1.292   0.0 1.0882 1.4958   True\n",
      "---------------------------------------------------------\n"
     ]
    }
   ],
   "source": [
    "from statsmodels.stats.multicomp import pairwise_tukeyhsd\n",
    "\n",
    "posthoc = pairwise_tukeyhsd(iris['petal_length'], iris['species'], alpha=0.05)\n",
    "print(posthoc)"
   ]
  },
  {
   "cell_type": "code",
   "execution_count": 22,
   "id": "60c08c43",
   "metadata": {},
   "outputs": [
    {
     "data": {
      "image/png": "[encoded data removed]",
      "text/plain": [
       "<Figure size 1000x600 with 1 Axes>"
      ]
     },
     "metadata": {},
     "output_type": "display_data"
    }
   ],
   "source": [
    "fig = posthoc.plot_simultaneous()"
   ]
  },
  {
   "cell_type": "markdown",
   "id": "8f5b8b74",
   "metadata": {},
   "source": [
    "Tukey 결과, 세 품종의 petal_length의 평균은 모든 쌍에서 유의미한 차이를 보였고, \\\n",
    "오름차순으로 정렬하면 setosa, versicolor, virginica 순이였다."
   ]
  },
  {
   "cell_type": "markdown",
   "id": "f606981d",
   "metadata": {},
   "source": [
    "### 9. 결과 요약"
   ]
  },
  {
   "cell_type": "markdown",
   "id": "08c2e80f",
   "metadata": {},
   "source": [
    "Boxplot의 결과로 우리는 setosa가 다른 두 종과 확연히 분리될 정도의 작은 petal_length를 가진다는것과 대략적인 평균의 차이를 알았다. 또한 ANOVA를 통해서 세 종의 품종중 적어도 하나는 유의미한 차이를 가진다는것과, tukey 결과에서 세 쌍의 품종 비교에서 모두 귀무가설을 기각하는것을 보았다.\n",
    "\n",
    "결론: 오름차순으로 setosa, versicolor, virginica 가 통게적으로 유의미한 차이의 petal_length평균의 차이를 보였다."
   ]
  },
  {
   "cell_type": "markdown",
   "id": "157ccd19",
   "metadata": {},
   "source": [
    "### A. 참고 문헌\n",
    "\n",
    "[https://partrita.github.io/posts/post-hoc-analysis/](https://partrita.github.io/posts/post-hoc-analysis/)"
   ]
  }
 ],
 "metadata": {
  "kernelspec": {
   "display_name": "base",
   "language": "python",
   "name": "python3"
  },
  "language_info": {
   "codemirror_mode": {
    "name": "ipython",
    "version": 3
   },
   "file_extension": ".py",
   "mimetype": "text/x-python",
   "name": "python",
   "nbconvert_exporter": "python",
   "pygments_lexer": "ipython3",
   "version": "3.12.7"
  }
 },
 "nbformat": 4,
 "nbformat_minor": 5
}
